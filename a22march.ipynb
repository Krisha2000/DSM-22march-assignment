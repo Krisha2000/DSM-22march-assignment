{
 "cells": [
  {
   "cell_type": "markdown",
   "id": "fe13ba7f-46bc-4ba9-a7c9-b3b730342653",
   "metadata": {},
   "source": [
    "# Quetion : 1"
   ]
  },
  {
   "cell_type": "code",
   "execution_count": 1,
   "id": "1af4aeb3-1109-444e-9636-9121315b0b82",
   "metadata": {},
   "outputs": [],
   "source": [
    "import pandas as pd\n",
    "study_time = [5, 6, 3, 4, 7, 6, 5, 4, 6, 7]\n",
    "exam_score = [85, 92, 78, 83, 95, 91, 88, 80, 90, 94]\n",
    "df={\"st\": study_time,\"es\": exam_score}\n",
    "df=pd.DataFrame(df)\n"
   ]
  },
  {
   "cell_type": "code",
   "execution_count": 6,
   "id": "b63a41d0-9a0b-410e-bdf0-05bd6fba3a56",
   "metadata": {},
   "outputs": [
    {
     "name": "stdout",
     "output_type": "stream",
     "text": [
      "Pearson correlation coefficient: 0.9788864121680609\n"
     ]
    }
   ],
   "source": [
    "corr=df.corr(method='pearson')\n",
    "print(\"Pearson correlation coefficient:\", corr['st']['es'])"
   ]
  },
  {
   "cell_type": "markdown",
   "id": "46422d55-4b4b-44c7-b622-a20cb9fc7e0b",
   "metadata": {},
   "source": [
    "# Quetion : 2"
   ]
  },
  {
   "cell_type": "code",
   "execution_count": 7,
   "id": "97fa4255-d807-409d-af5f-8a1175cec933",
   "metadata": {},
   "outputs": [
    {
     "name": "stdout",
     "output_type": "stream",
     "text": [
      "Pearson correlation coefficient: 0.9624250057319527\n"
     ]
    }
   ],
   "source": [
    "sleep = [7, 8, 6, 5, 7, 9, 8, 6, 7, 5]\n",
    "job_satisfaction = [8, 9, 7, 5, 7, 10, 9, 6, 8, 6]\n",
    "df={\"s\": sleep,\"js\": job_satisfaction}\n",
    "df=pd.DataFrame(df)\n",
    "corr=df.corr(method='spearman')\n",
    "print(\"spearman correlation coefficient:\", corr['s']['js'])"
   ]
  },
  {
   "cell_type": "markdown",
   "id": "d55a2138-4a0b-4b1d-93d6-2397f7a93b3e",
   "metadata": {},
   "source": [
    "# Quetion : 3"
   ]
  },
  {
   "cell_type": "code",
   "execution_count": 15,
   "id": "69373e8f-ef98-432b-bb77-a461d4e9cd3a",
   "metadata": {},
   "outputs": [
    {
     "data": {
      "text/plain": [
       "50"
      ]
     },
     "execution_count": 15,
     "metadata": {},
     "output_type": "execute_result"
    }
   ],
   "source": [
    "exercise_hours = [4, 6, 2, 5, 7, 3, 4, 5, 6, 1, 3, 2, 4, 6, 7, 3, 5, 2, 1, 4,\n",
    "                  5, 6, 3, 2, 1, 7, 6, 4, 2, 5, 3, 1, 7, 6, 5, 4, 3, 2, 1,\n",
    "                  5, 6, 4, 2, 3, 1, 7, 5, 6, 2, 4]\n",
    "bmi = [23.1, 25.3, 27.6, 28.1, 29.5, 25.8, 24.6, 27.2, 26.9, 31.2, 27.5, 26.4,\n",
    "       25.3, 24.5, 28.9, 26.2, 28.5, 26.1, 32.4, 24.3, 26.5, 25.9, 27.6, 25.4,\n",
    "       30.1, 28.7, 27.3, 25.9, 26.8, 26.6, 25.7, 31.5, 27.2, 29.6, 29.8, 29.7,\n",
    "       25.6, 27.8, 28.2, 26.9, 27.1, 29.5, 28.3, 26.5, 29.1, 27.3, 31.9, 28.5,\n",
    "       26.4, 29.2]\n"
   ]
  },
  {
   "cell_type": "code",
   "execution_count": 17,
   "id": "532dcfc1-a264-48a0-ac6c-6f570afb7d2c",
   "metadata": {},
   "outputs": [
    {
     "name": "stdout",
     "output_type": "stream",
     "text": [
      "spearman correlation coefficient: -0.06853491775192803\n",
      "pearson correlation coefficient: -0.13982947295829984\n"
     ]
    }
   ],
   "source": [
    "df={\"eh\": exercise_hours,\"bmi\": bmi}\n",
    "df=pd.DataFrame(df)\n",
    "corr1=df.corr(method='spearman')\n",
    "print(\"spearman correlation coefficient:\", corr1['eh']['bmi'])\n",
    "corr2=df.corr(method='pearson')\n",
    "print(\"pearson correlation coefficient:\", corr2['eh']['bmi'])\n"
   ]
  },
  {
   "cell_type": "markdown",
   "id": "05d50426-f2c7-43d5-87eb-49a0d3fcdaa8",
   "metadata": {},
   "source": [
    "# Quetion : 4"
   ]
  },
  {
   "cell_type": "code",
   "execution_count": 21,
   "id": "6f3af1d2-e9c5-44a2-aee5-ef73debe0ccd",
   "metadata": {},
   "outputs": [
    {
     "name": "stdout",
     "output_type": "stream",
     "text": [
      "pearson correlation coefficient: -0.6010769997008883\n"
     ]
    }
   ],
   "source": [
    "tv_hours = [2, 1, 3, 4, 2, 3, 1, 2, 1, 3, 4, 3, 2, 1, 3, 4, 2, 3, 2, 1, 4, 2, 1, 3, 2,\n",
    "            2, 3, 1, 4, 1, 2, 3, 4, 1, 1, 2, 3, 4, 1, 2, 3, 4, 2, 3, 2, 4, 1, 3, 1, 4]\n",
    "physical_activity = [5, 7, 6, 4, 5, 4, 7, 5, 7, 6, 4, 5, 6, 7, 5, 4, 6, 5, 6, 7, 4, 5, 7, 6,\n",
    "                     5, 6, 4, 7, 4, 7, 5, 6, 4, 7, 5, 6, 4, 7, 5, 6, 4, 5, 6, 5, 4, 7, 6, 4, 7, 5]\n",
    "df={\"tv\": tv_hours,\"pa\": physical_activity}\n",
    "df=pd.DataFrame(df)\n",
    "corr1=df.corr(method='pearson')\n",
    "print(\"pearson correlation coefficient:\", corr1['tv']['pa'])"
   ]
  },
  {
   "cell_type": "markdown",
   "id": "b4492a6c-20b8-4078-a592-e1a0b20fe437",
   "metadata": {},
   "source": [
    "# Quetion : 5"
   ]
  },
  {
   "cell_type": "code",
   "execution_count": 3,
   "id": "2128a928-3411-4b92-937b-539c86907117",
   "metadata": {},
   "outputs": [
    {
     "name": "stdout",
     "output_type": "stream",
     "text": [
      "cock : [1]\n",
      "pepsi : [3]\n",
      "mountain dew : [2]\n"
     ]
    },
    {
     "name": "stderr",
     "output_type": "stream",
     "text": [
      "/opt/conda/lib/python3.10/site-packages/sklearn/preprocessing/_label.py:134: DataConversionWarning: A column-vector y was passed when a 1d array was expected. Please change the shape of y to (n_samples, ), for example using ravel().\n",
      "  y = column_or_1d(y, dtype=self.classes_.dtype, warn=True)\n"
     ]
    }
   ],
   "source": [
    "import pandas as pd\n",
    "age=[25,42,37,19,31,28]\n",
    "soft_drink_oreferance=['cock','pepsi','mountain dew','cock','pepsi','cake']\n",
    "df={\"age\":age,'sdp':soft_drink_oreferance}\n",
    "df=pd.DataFrame(df)\n",
    "from sklearn.preprocessing import LabelEncoder\n",
    "lbl_encoder=LabelEncoder()\n",
    "lbl_encoder.fit_transform(df['sdp'])\n",
    "print(\"cock :\", lbl_encoder.transform([['cock']]))\n",
    "print(\"pepsi :\", lbl_encoder.transform([['pepsi']]))\n",
    "print(\"mountain dew :\", lbl_encoder.transform([['mountain dew']]))"
   ]
  },
  {
   "cell_type": "markdown",
   "id": "683d99d2-209d-484c-853c-6e758dcf9b3b",
   "metadata": {},
   "source": [
    "# Quetion : 6"
   ]
  },
  {
   "cell_type": "code",
   "execution_count": null,
   "id": "fa1deaf3-5a60-4059-9f61-69efb1d7b0f5",
   "metadata": {},
   "outputs": [],
   "source": [
    "sales_calls=[10, 12, 8, 9, 11, 13, 14, 15, 11, 10, 12, 9, 8, 11, 10, 12, 13, 14, 15, 11, 10, 12, 9, 8, 11, 10, 12, 13, 14, 15]\n",
    "sal"
   ]
  }
 ],
 "metadata": {
  "kernelspec": {
   "display_name": "Python 3 (ipykernel)",
   "language": "python",
   "name": "python3"
  },
  "language_info": {
   "codemirror_mode": {
    "name": "ipython",
    "version": 3
   },
   "file_extension": ".py",
   "mimetype": "text/x-python",
   "name": "python",
   "nbconvert_exporter": "python",
   "pygments_lexer": "ipython3",
   "version": "3.10.8"
  }
 },
 "nbformat": 4,
 "nbformat_minor": 5
}
